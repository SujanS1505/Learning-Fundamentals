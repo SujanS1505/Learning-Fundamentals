{
 "cells": [
  {
   "cell_type": "code",
   "execution_count": 2,
   "id": "46c26df6",
   "metadata": {},
   "outputs": [
    {
     "name": "stdout",
     "output_type": "stream",
     "text": [
      "Requirement already satisfied: numpy in d:\\study\\learning fundamentals\\.venv\\lib\\site-packages (2.3.1)\n",
      "Requirement already satisfied: pandas in d:\\study\\learning fundamentals\\.venv\\lib\\site-packages (2.3.1)\n",
      "Requirement already satisfied: matplotlib in d:\\study\\learning fundamentals\\.venv\\lib\\site-packages (3.10.3)\n",
      "Requirement already satisfied: seaborn in d:\\study\\learning fundamentals\\.venv\\lib\\site-packages (0.13.2)\n",
      "Requirement already satisfied: scikit-learn in d:\\study\\learning fundamentals\\.venv\\lib\\site-packages (1.7.0)\n",
      "Requirement already satisfied: python-dateutil>=2.8.2 in d:\\study\\learning fundamentals\\.venv\\lib\\site-packages (from pandas) (2.9.0.post0)\n",
      "Requirement already satisfied: pytz>=2020.1 in d:\\study\\learning fundamentals\\.venv\\lib\\site-packages (from pandas) (2025.2)\n",
      "Requirement already satisfied: tzdata>=2022.7 in d:\\study\\learning fundamentals\\.venv\\lib\\site-packages (from pandas) (2025.2)\n",
      "Requirement already satisfied: contourpy>=1.0.1 in d:\\study\\learning fundamentals\\.venv\\lib\\site-packages (from matplotlib) (1.3.2)\n",
      "Requirement already satisfied: cycler>=0.10 in d:\\study\\learning fundamentals\\.venv\\lib\\site-packages (from matplotlib) (0.12.1)\n",
      "Requirement already satisfied: fonttools>=4.22.0 in d:\\study\\learning fundamentals\\.venv\\lib\\site-packages (from matplotlib) (4.58.5)\n",
      "Requirement already satisfied: kiwisolver>=1.3.1 in d:\\study\\learning fundamentals\\.venv\\lib\\site-packages (from matplotlib) (1.4.8)\n",
      "Requirement already satisfied: packaging>=20.0 in d:\\study\\learning fundamentals\\.venv\\lib\\site-packages (from matplotlib) (25.0)\n",
      "Requirement already satisfied: pillow>=8 in d:\\study\\learning fundamentals\\.venv\\lib\\site-packages (from matplotlib) (11.3.0)\n",
      "Requirement already satisfied: pyparsing>=2.3.1 in d:\\study\\learning fundamentals\\.venv\\lib\\site-packages (from matplotlib) (3.2.3)\n",
      "Requirement already satisfied: scipy>=1.8.0 in d:\\study\\learning fundamentals\\.venv\\lib\\site-packages (from scikit-learn) (1.16.0)\n",
      "Requirement already satisfied: joblib>=1.2.0 in d:\\study\\learning fundamentals\\.venv\\lib\\site-packages (from scikit-learn) (1.5.1)\n",
      "Requirement already satisfied: threadpoolctl>=3.1.0 in d:\\study\\learning fundamentals\\.venv\\lib\\site-packages (from scikit-learn) (3.6.0)\n",
      "Requirement already satisfied: six>=1.5 in d:\\study\\learning fundamentals\\.venv\\lib\\site-packages (from python-dateutil>=2.8.2->pandas) (1.17.0)\n",
      "Note: you may need to restart the kernel to use updated packages.\n"
     ]
    }
   ],
   "source": [
    "pip install numpy pandas matplotlib seaborn scikit-learn"
   ]
  },
  {
   "cell_type": "code",
   "execution_count": 3,
   "id": "2a559ca6",
   "metadata": {},
   "outputs": [
    {
     "name": "stdout",
     "output_type": "stream",
     "text": [
      "[1 2 3 4 5]\n",
      "<class 'numpy.ndarray'>\n",
      "(5,)\n",
      "int64\n",
      "1\n",
      "5\n"
     ]
    }
   ],
   "source": [
    "import numpy as np\n",
    "\n",
    "l=[1,2,3,4,5]\n",
    "ar=np.array(l)\n",
    "\n",
    "print(ar)\n",
    "print(type(ar))\n",
    "print(ar.shape)\n",
    "print(ar.dtype)\n",
    "print(ar.ndim)\n",
    "print(ar.size)"
   ]
  },
  {
   "cell_type": "code",
   "execution_count": 4,
   "id": "a0c36ded",
   "metadata": {},
   "outputs": [
    {
     "name": "stdout",
     "output_type": "stream",
     "text": [
      "[[ 1  2  3  4  5]\n",
      " [ 6  7  8  9 10]\n",
      " [11 12 13 14 15]] \n",
      "\n",
      "(3, 5) \n",
      "\n",
      "[[ 1  2  3]\n",
      " [ 4  5  6]\n",
      " [ 7  8  9]\n",
      " [10 11 12]\n",
      " [13 14 15]] \n",
      "\n",
      "[[ 9 10]\n",
      " [14 15]]\n"
     ]
    }
   ],
   "source": [
    "l1=[1,2,3,4,5]\n",
    "l2=[6,7,8,9,10]\n",
    "l3=[11,12,13,14,15]\n",
    "mda=np.array([l1,l2,l3])\n",
    "\n",
    "print(mda,'\\n')\n",
    "print(mda.shape,'\\n')\n",
    "\n",
    "print(mda.reshape(5,3),'\\n')\n",
    "\n",
    "print(mda[1:,3:])\n",
    "\n",
    "\n"
   ]
  },
  {
   "cell_type": "code",
   "execution_count": 5,
   "id": "115d0584",
   "metadata": {},
   "outputs": [
    {
     "name": "stdout",
     "output_type": "stream",
     "text": [
      "4\n",
      "[ 1  2 10 10  5]\n"
     ]
    }
   ],
   "source": [
    "arr=np.array([1,2,3,4,5])\n",
    "print(arr[3])\n",
    "\n",
    "arr[2:4] = 10\n",
    "print(arr)"
   ]
  },
  {
   "cell_type": "code",
   "execution_count": 6,
   "id": "50332796",
   "metadata": {},
   "outputs": [
    {
     "name": "stdout",
     "output_type": "stream",
     "text": [
      "[0 1 2 3 4 5 6 7 8 9]\n",
      "[0 2 4 6 8] \n",
      "\n",
      "[  0   1   2 100 100 100 100 100 100 100]\n",
      "[  0   1   2 500 500 500 500 500 500 500]\n",
      "[  0   1   2 500 500 500 500 500 500 500]\n"
     ]
    }
   ],
   "source": [
    "arr=np.arange(0,10)\n",
    "v=np.arange(0,10,2)\n",
    "\n",
    "print(arr)\n",
    "print(v,'\\n')\n",
    "\n",
    "#broadcasting\n",
    "arr[3:]=100\n",
    "print(arr)\n",
    "\n",
    "ar1=arr\n",
    "ar1[3:]=500\n",
    "print(ar1)\n",
    "print(arr)"
   ]
  },
  {
   "cell_type": "code",
   "execution_count": 7,
   "id": "1ff2086d",
   "metadata": {},
   "outputs": [
    {
     "name": "stdout",
     "output_type": "stream",
     "text": [
      "[False False False  True  True]\n",
      "[4 5] \n",
      "\n",
      "[ True  True False False False] \n",
      "\n",
      "[ 3  6  9 12 15]\n"
     ]
    }
   ],
   "source": [
    "arr=np.array([1,2,3,4,5])\n",
    "var=3\n",
    "print(arr>3)\n",
    "print(arr[arr>3],'\\n')\n",
    "\n",
    "print(arr<=2,'\\n')\n",
    "\n",
    "print(arr*var)\n"
   ]
  },
  {
   "cell_type": "code",
   "execution_count": 8,
   "id": "32daf04d",
   "metadata": {},
   "outputs": [
    {
     "data": {
      "text/plain": [
       "array([[0, 1, 2, 3, 4],\n",
       "       [5, 6, 7, 8, 9]])"
      ]
     },
     "execution_count": 8,
     "metadata": {},
     "output_type": "execute_result"
    }
   ],
   "source": [
    "np.arange(0,10).reshape(5,2) # 5 rows, 2 columns\n",
    "np.arange(0,10).reshape(2,5) # 2 rows,\n"
   ]
  },
  {
   "cell_type": "code",
   "execution_count": 9,
   "id": "a13cc67d",
   "metadata": {},
   "outputs": [
    {
     "name": "stdout",
     "output_type": "stream",
     "text": [
      "[[0.27106663 0.54053894 0.81690076]\n",
      " [0.02969383 0.19793308 0.36403826]\n",
      " [0.93795708 0.35584977 0.50321748]]\n",
      "\n",
      "[4 6 7 1 5]\n",
      "\n",
      "[[6 9 1]\n",
      " [8 2 3]\n",
      " [3 5 2]]\n"
     ]
    }
   ],
   "source": [
    "print(np.random.rand(3,3))# Random values in [0.0, 1.0)\n",
    "print()\n",
    "\n",
    "print(np.random.randint(1,10,5))# Random integers from low (inclusive) to high (exclusive)\n",
    "print()\n",
    "\n",
    "print(np.random.randint(1,10,(3,3)))# Random integers from low (inclusive) to high (exclusive)"
   ]
  }
 ],
 "metadata": {
  "kernelspec": {
   "display_name": ".venv",
   "language": "python",
   "name": "python3"
  },
  "language_info": {
   "codemirror_mode": {
    "name": "ipython",
    "version": 3
   },
   "file_extension": ".py",
   "mimetype": "text/x-python",
   "name": "python",
   "nbconvert_exporter": "python",
   "pygments_lexer": "ipython3",
   "version": "3.13.5"
  }
 },
 "nbformat": 4,
 "nbformat_minor": 5
}
