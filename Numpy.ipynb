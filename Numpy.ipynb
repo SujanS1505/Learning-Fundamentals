{
 "cells": [
  {
   "cell_type": "code",
   "execution_count": null,
   "id": "46c26df6",
   "metadata": {},
   "outputs": [],
   "source": [
    "pip install numpy pandas matplotlib seaborn scikit-learn"
   ]
  },
  {
   "cell_type": "code",
   "execution_count": null,
   "id": "2a559ca6",
   "metadata": {},
   "outputs": [],
   "source": [
    "import numpy as np\n",
    "\n",
    "l=[1,2,3,4,5]\n",
    "ar=np.array(l)\n",
    "\n",
    "print(ar)\n",
    "print(type(ar))\n",
    "print(ar.shape)\n",
    "print(ar.dtype)\n",
    "print(ar.ndim)\n",
    "print(ar.size)"
   ]
  },
  {
   "cell_type": "code",
   "execution_count": null,
   "id": "a0c36ded",
   "metadata": {},
   "outputs": [],
   "source": [
    "l1=[1,2,3,4,5]\n",
    "l2=[6,7,8,9,10]\n",
    "l3=[11,12,13,14,15]\n",
    "mda=np.array([l1,l2,l3])\n",
    "\n",
    "print(mda,'\\n')\n",
    "print(mda.shape,'\\n')\n",
    "\n",
    "print(mda.reshape(5,3),'\\n')\n",
    "\n",
    "print(mda[1:,3:])\n",
    "\n",
    "\n"
   ]
  },
  {
   "cell_type": "code",
   "execution_count": null,
   "id": "115d0584",
   "metadata": {},
   "outputs": [],
   "source": [
    "arr=np.array([1,2,3,4,5])\n",
    "print(arr[3])\n",
    "\n",
    "arr[2:4] = 10\n",
    "print(arr)"
   ]
  },
  {
   "cell_type": "code",
   "execution_count": null,
   "id": "50332796",
   "metadata": {},
   "outputs": [],
   "source": [
    "arr=np.arange(0,10)\n",
    "v=np.arange(0,10,2)\n",
    "\n",
    "print(arr)\n",
    "print(v,'\\n')\n",
    "\n",
    "#broadcasting\n",
    "arr[3:]=100\n",
    "print(arr)\n",
    "\n",
    "ar1=arr\n",
    "ar1[3:]=500\n",
    "print(ar1)\n",
    "print(arr)"
   ]
  },
  {
   "cell_type": "code",
   "execution_count": null,
   "id": "1ff2086d",
   "metadata": {},
   "outputs": [],
   "source": [
    "arr=np.array([1,2,3,4,5])\n",
    "var=3\n",
    "print(arr>3)\n",
    "print(arr[arr>3],'\\n')\n",
    "\n",
    "print(arr<=2,'\\n')\n",
    "\n",
    "print(arr*var)\n"
   ]
  },
  {
   "cell_type": "code",
   "execution_count": null,
   "id": "32daf04d",
   "metadata": {},
   "outputs": [],
   "source": [
    "np.arange(0,10).reshape(5,2) # 5 rows, 2 columns\n",
    "np.arange(0,10).reshape(2,5) # 2 rows,\n"
   ]
  },
  {
   "cell_type": "code",
   "execution_count": null,
   "id": "a13cc67d",
   "metadata": {},
   "outputs": [],
   "source": [
    "print(np.random.rand(3,3))# Random values in [0.0, 1.0)\n",
    "print()\n",
    "\n",
    "print(np.random.randint(1,10,5))# Random integers from low (inclusive) to high (exclusive)\n",
    "print()\n",
    "\n",
    "print(np.random.randint(1,10,(3,3)))# Random integers from low (inclusive) to high (exclusive)"
   ]
  }
 ],
 "metadata": {
  "kernelspec": {
   "display_name": ".venv",
   "language": "python",
   "name": "python3"
  },
  "language_info": {
   "codemirror_mode": {
    "name": "ipython",
    "version": 3
   },
   "file_extension": ".py",
   "mimetype": "text/x-python",
   "name": "python",
   "nbconvert_exporter": "python",
   "pygments_lexer": "ipython3",
   "version": "3.13.5"
  }
 },
 "nbformat": 4,
 "nbformat_minor": 5
}
